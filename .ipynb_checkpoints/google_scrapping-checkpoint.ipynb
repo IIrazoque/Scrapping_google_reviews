{
 "cells": [
  {
   "cell_type": "code",
   "execution_count": 1,
   "id": "0b661714",
   "metadata": {},
   "outputs": [],
   "source": [
    "from bs4 import BeautifulSoup\n",
    "from splinter import Browser\n",
    "import time\n",
    "import sys\n",
    "import json\n",
    "import dateparser"
   ]
  },
  {
   "cell_type": "code",
   "execution_count": 3,
   "id": "742f10aa",
   "metadata": {},
   "outputs": [],
   "source": [
    "url = 'https://www.google.com/maps/place/Cycle+Gear/@32.8182825,-117.1521856,17z/data=!3m1!4b1!4m5!3m4!1s0x80dbffc1e7bdbdaf:0xc7e43ce9631e3741!8m2!3d32.818278!4d-117.1499916'"
   ]
  },
  {
   "cell_type": "code",
   "execution_count": 4,
   "id": "3a3661c6",
   "metadata": {},
   "outputs": [],
   "source": [
    "def get_business_info(url):\n",
    "    bname = url.split(\"/@\")[0].split(\"/\")[5].replace('+', ' ')\n",
    "    business = {}\n",
    "    business['base_url'] = url\n",
    "    browser = Browser(\"chrome\", headless=True)\n",
    "    browser.visit(url)\n",
    "    time.sleep(5)\n",
    "    soup = BeautifulSoup(browser.html, \"html5lib\")\n",
    "    addr_button = soup.select_one('button[data-item-id=\"address\"]')\n",
    "    addr = addr_button['aria-label'].replace(\"Address: \", \"\").strip()\n",
    "    business['address'] = addr\n",
    "    business_name = soup.select_one('h1[class*=\"header-title-title\"]').text.strip()\n",
    "    business['name'] = business_name\n",
    "    rating = soup.find(\"ol\", {\"class\":\"section-star-array\"})['aria-label'].replace(\"stars\", \"\").strip()\n",
    "    business['rating'] = float(rating)\n",
    "    total_reviews = soup.select_one('button:-soup-contains(\"reviews\")').text\n",
    "    business['review_count'] = int(total_reviews.replace(\"reviews\", \"\").strip().replace(\",\",\"\")) \n",
    "    res_type = soup.select_one('div[class=\"gm2-body-2\"]').text\n",
    "    business['type'] = res_type.replace(\"·\",\"\")\n",
    "    business['source'] = \"Google\"\n",
    "    reviews_button = browser.find_by_text(total_reviews).click()\n",
    "    time.sleep(3)\n",
    "    business['reviews_url'] = browser.url\n",
    "    browser.quit()\n",
    "    return business"
   ]
  },
  {
   "cell_type": "code",
   "execution_count": 6,
   "id": "e347af7a",
   "metadata": {},
   "outputs": [],
   "source": [
    "def get_html(url, count):\n",
    "    browser = Browser(\"chrome\", headless=True)\n",
    "    browser.visit(url)\n",
    "    time.sleep(2)\n",
    "    # sort and select newest for the list\n",
    "    browser.find_by_text(\"Sort\").first.click()\n",
    "    time.sleep(2)\n",
    "    new_menu_item = browser.find_by_id(\"action-menu\").find_by_tag(\"ul\").find_by_tag(\"li\")[1]\n",
    "    new_menu_item.click()\n",
    "    time.sleep(7)\n",
    "    rlen = get_review_count(browser.html)\n",
    "    while rlen < count:\n",
    "        #div.section-layout.section-scrollbox.scrollable-y.scrollable-show\n",
    "        browser.execute_script('document.querySelector(\"div.section-scrollbox\").scrollTop = document.querySelector(\"div.section-scrollbox\").scrollHeight')\n",
    "        time.sleep(2)\n",
    "        rlen = get_review_count(browser.html)\n",
    "    html = browser.html\n",
    "    browser.quit()\n",
    "    return html\n"
   ]
  },
  {
   "cell_type": "code",
   "execution_count": 7,
   "id": "bf489295",
   "metadata": {},
   "outputs": [],
   "source": [
    "def get_review_count(html):\n",
    "    soup = BeautifulSoup(html, \"html5lib\")\n",
    "    reviews = soup.find_all('div', {'data-review-id': True, 'aria-label': True})\n",
    "    return len(reviews)"
   ]
  },
  {
   "cell_type": "code",
   "execution_count": 8,
   "id": "582b409a",
   "metadata": {},
   "outputs": [],
   "source": [
    "def get_reviews(html):\n",
    "    soup = BeautifulSoup(html, \"html5lib\")\n",
    "    reviews = soup.find_all('div', {'data-review-id': True, 'aria-label': True})\n",
    "    \n",
    "    for r in reviews:   \n",
    "        user = r['aria-label'].encode('ascii', 'ignore').decode('UTF-8')\n",
    "        review_id = r['data-review-id']\n",
    "        content_div = r.find(\"div\", {'data-review-id': review_id})\n",
    "        stars = content_div.find(\"span\", {'role':'img'})['aria-label'].strip()\n",
    "        rating = int(stars.split(' ')[0])\n",
    "        date = content_div.select_one('span[class*=\"-date\"]').text.strip()\n",
    "        text = content_div.select_one('span[class*=\"-text\"]').text.strip()\n",
    "        if len(text) < 30:\n",
    "            continue\n",
    "        else:\n",
    "            if \"(Translated by Google)\" in text: \n",
    "                text = text.replace(\"(Translated by Google) \", \"\")\n",
    "                if \"(Original)\" in text:\n",
    "                    idx = text.index(\"(Original)\")\n",
    "                    text = text[0:idx]\n",
    "\n",
    "        yield {\n",
    "            \"rating\": rating,\n",
    "            \"id\": review_id,\n",
    "            \"user\": user,\n",
    "            \"date\": dateparser.parse(date).strftime(\"%d-%m-%Y\"),\n",
    "            \"review\": text.replace(\"\\n\",'').encode('ascii', 'ignore').decode('UTF-8')\n",
    "        }"
   ]
  },
  {
   "cell_type": "code",
   "execution_count": 9,
   "id": "802bb95c",
   "metadata": {},
   "outputs": [
    {
     "name": "stdout",
     "output_type": "stream",
     "text": [
      "Usage: python3 google-scraper.py <url.txt>\n"
     ]
    }
   ],
   "source": [
    "if len(sys.argv) == 2:\n",
    "    f = open(sys.argv[1], \"r\")\n",
    "    lines = f.readlines()\n",
    "    f.close()\n",
    "    for l in lines:\n",
    "        url = l.split(\"@@\")[0]\n",
    "        count = int(l.split(\"@@\")[1])\n",
    "        business = get_business_info(url)\n",
    "        business['reviews'] = []\n",
    "        print(\"Processing URL for business: \"+business['name'])\n",
    "        f = open(business['name'].replace(' ',\"_\").lower()+\".json\", \"w\", encoding='utf-8')\n",
    "        html = get_html(business['reviews_url'], count)\n",
    "        for r in get_reviews(html):\n",
    "            business['reviews'].append(r)\n",
    "        json.dump(business, f, ensure_ascii=False, indent=4)\n",
    "        f.close()\n",
    "else:\n",
    "    print(\"Usage: python3 google-scraper.py <url.txt>\")\n",
    "    exit()"
   ]
  },
  {
   "cell_type": "code",
   "execution_count": 1,
   "id": "bab04643",
   "metadata": {},
   "outputs": [
    {
     "ename": "NameError",
     "evalue": "name 'pd' is not defined",
     "output_type": "error",
     "traceback": [
      "\u001b[1;31m---------------------------------------------------------------------------\u001b[0m",
      "\u001b[1;31mNameError\u001b[0m                                 Traceback (most recent call last)",
      "Input \u001b[1;32mIn [1]\u001b[0m, in \u001b[0;36m<cell line: 2>\u001b[1;34m()\u001b[0m\n\u001b[0;32m      1\u001b[0m \u001b[38;5;66;03m# Save the reviews into a DataFrame\u001b[39;00m\n\u001b[1;32m----> 2\u001b[0m df \u001b[38;5;241m=\u001b[39m \u001b[43mpd\u001b[49m\u001b[38;5;241m.\u001b[39mDataFrame(reviews)\n",
      "\u001b[1;31mNameError\u001b[0m: name 'pd' is not defined"
     ]
    }
   ],
   "source": [
    "# Save the reviews into a DataFrame\n",
    "df = pd.DataFrame(reviews)"
   ]
  },
  {
   "cell_type": "code",
   "execution_count": null,
   "id": "58c2f692",
   "metadata": {},
   "outputs": [],
   "source": []
  }
 ],
 "metadata": {
  "kernelspec": {
   "display_name": "Python 3 (ipykernel)",
   "language": "python",
   "name": "python3"
  },
  "language_info": {
   "codemirror_mode": {
    "name": "ipython",
    "version": 3
   },
   "file_extension": ".py",
   "mimetype": "text/x-python",
   "name": "python",
   "nbconvert_exporter": "python",
   "pygments_lexer": "ipython3",
   "version": "3.9.12"
  }
 },
 "nbformat": 4,
 "nbformat_minor": 5
}
